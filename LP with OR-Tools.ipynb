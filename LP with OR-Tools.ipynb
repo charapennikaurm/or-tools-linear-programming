{
 "cells": [
  {
   "cell_type": "markdown",
   "id": "4a6b66e6",
   "metadata": {
    "pycharm": {
     "name": "#%% md\n"
    }
   },
   "source": [
    "## Пример 1"
   ]
  },
  {
   "cell_type": "markdown",
   "id": "dc7426e5",
   "metadata": {
    "pycharm": {
     "name": "#%% md\n"
    }
   },
   "source": [
    "Рассматривается следующая задача линейного программирования:\n",
    "$$ c'x \\rightarrow max $$\n",
    "$$ x \\geq 0 $$\n",
    "$$ Ax \\leq b $$\n",
    "где\n",
    "$$ A = \\begin{bmatrix}\n",
    "        2 & 1 & -1 & -3 & 4 & 7 \\\\\n",
    "        0 & 1 & 1 & 1 & 2 & 4 \\\\\n",
    "        6 & -3 & -2 & 1 & 1 & 1 \\\\\n",
    "       \\end{bmatrix} $$\n",
    "  \n",
    "\n",
    "$$ b = \\begin{bmatrix}\n",
    "        7 & 16 & 6 \\\\\n",
    "       \\end{bmatrix}' $$\n",
    "  \n",
    "$$ c = \\begin{bmatrix}\n",
    "        1 & 2 & 1 & -1 & 2 & 3 \\\\\n",
    "       \\end{bmatrix}' $$"
   ]
  },
  {
   "cell_type": "code",
   "execution_count": 36,
   "id": "0e3d695c",
   "metadata": {
    "pycharm": {
     "name": "#%%\n"
    }
   },
   "outputs": [],
   "source": [
    "from ortools.linear_solver import pywraplp"
   ]
  },
  {
   "cell_type": "code",
   "execution_count": 44,
   "id": "abcc8f0a",
   "metadata": {
    "pycharm": {
     "name": "#%%\n"
    }
   },
   "outputs": [],
   "source": [
    "solver = pywraplp.Solver.CreateSolver('GLOP')"
   ]
  },
  {
   "cell_type": "code",
   "execution_count": 45,
   "id": "59991d41",
   "metadata": {
    "pycharm": {
     "name": "#%%\n"
    }
   },
   "outputs": [],
   "source": [
    "# добавление переменных задачи\n",
    "x1 = solver.NumVar(0, solver.infinity(), 'x1')\n",
    "x2 = solver.NumVar(0, solver.infinity(), 'x2')\n",
    "x3 = solver.NumVar(0, solver.infinity(), 'x3')\n",
    "x4 = solver.NumVar(0, solver.infinity(), 'x4')\n",
    "x5 = solver.NumVar(0, solver.infinity(), 'x5')\n",
    "x6 = solver.NumVar(0, solver.infinity(), 'x6')"
   ]
  },
  {
   "cell_type": "code",
   "execution_count": 46,
   "id": "b23563ea",
   "metadata": {
    "pycharm": {
     "name": "#%%\n"
    }
   },
   "outputs": [
    {
     "name": "stdout",
     "output_type": "stream",
     "text": [
      "Kоличество переменных: 6\n"
     ]
    }
   ],
   "source": [
    "# проверим, что мы добавили верное количество переменных\n",
    "print(f'Kоличество переменных: {solver.NumVariables()}')"
   ]
  },
  {
   "cell_type": "code",
   "execution_count": 47,
   "id": "23770faa",
   "metadata": {
    "pycharm": {
     "name": "#%%\n"
    }
   },
   "outputs": [
    {
     "data": {
      "text/plain": [
       "<ortools.linear_solver.pywraplp.Constraint; proxy of <Swig Object of type 'operations_research::MPConstraint *' at 0x7fa794bfd8a0> >"
      ]
     },
     "execution_count": 47,
     "metadata": {},
     "output_type": "execute_result"
    }
   ],
   "source": [
    "# добавление ограничений\n",
    "solver.Add(2*x1 + 1*x2 - 1*x3  - 3*x4 + 4*x5 + 7*x6 <= 7)\n",
    "solver.Add(0*x1 + 1*x2 + 1*x3  + 1*x4 + 2*x5 + 4*x6 <= 16)\n",
    "solver.Add(6*x1 - 3*x2 - 3*x3  + 1*x4 + 1*x5 + 1*x6 <= 6)"
   ]
  },
  {
   "cell_type": "code",
   "execution_count": 48,
   "id": "311200d5",
   "metadata": {
    "pycharm": {
     "name": "#%%\n"
    }
   },
   "outputs": [
    {
     "name": "stdout",
     "output_type": "stream",
     "text": [
      "Количество ограничений: 3\n"
     ]
    }
   ],
   "source": [
    "# проверим, что мы добавили верное количество переменных\n",
    "print(f'Количество ограничений: {solver.NumConstraints()}')"
   ]
  },
  {
   "cell_type": "code",
   "execution_count": 49,
   "id": "6d9c3ad8",
   "metadata": {
    "pycharm": {
     "name": "#%%\n"
    }
   },
   "outputs": [],
   "source": [
    "# добавление целевой функции\n",
    "solver.Maximize(1*x1 + 2*x2 + 1*x3 - 1*x4 + 2*x5 + 3*x6)"
   ]
  },
  {
   "cell_type": "code",
   "execution_count": 50,
   "id": "2a1b29fe",
   "metadata": {
    "pycharm": {
     "name": "#%%\n"
    }
   },
   "outputs": [],
   "source": [
    "# решение задачи\n",
    "status = solver.Solve()"
   ]
  },
  {
   "cell_type": "code",
   "execution_count": 51,
   "id": "428aca29",
   "metadata": {
    "pycharm": {
     "name": "#%%\n"
    }
   },
   "outputs": [
    {
     "name": "stdout",
     "output_type": "stream",
     "text": [
      "Решение:\n",
      "Значение целевой функции = 27.5\n",
      "x1 = 0.0\n",
      "x2 = 11.5\n",
      "x3 = 4.5\n",
      "x4 = 0.0\n",
      "x5 = 0.0\n",
      "x6 = 0.0\n"
     ]
    }
   ],
   "source": [
    "if status == pywraplp.Solver.OPTIMAL:\n",
    "    print('Решение:')\n",
    "    print(f'Значение целевой функции = {solver.Objective().Value()}')\n",
    "    print(f'x1 = {x1.solution_value()}')\n",
    "    print(f'x2 = {x2.solution_value()}')    \n",
    "    print(f'x3 = {x3.solution_value()}')    \n",
    "    print(f'x4 = {x4.solution_value()}')    \n",
    "    print(f'x5 = {x5.solution_value()}')  \n",
    "    print(f'x6 = {x6.solution_value()}')\n",
    "else:\n",
    "    print('Задача не имеет решений')"
   ]
  },
  {
   "cell_type": "markdown",
   "id": "a930dafa",
   "metadata": {
    "pycharm": {
     "name": "#%% md\n"
    }
   },
   "source": [
    "Эту же задачу можно решить при условии того, что $ x $ - целочисленные переменные"
   ]
  },
  {
   "cell_type": "code",
   "execution_count": 60,
   "id": "87844493",
   "metadata": {
    "pycharm": {
     "name": "#%%\n"
    }
   },
   "outputs": [
    {
     "name": "stdout",
     "output_type": "stream",
     "text": [
      "Kоличество переменных: 6\n",
      "Количество ограничений: 3\n",
      "Решение:\n",
      "Значение целевой функции = 27\n",
      "x1 = 0\n",
      "x2 = 11\n",
      "x3 = 5\n",
      "x4 = 0\n",
      "x5 = -0\n",
      "x6 = 0\n"
     ]
    }
   ],
   "source": [
    "solver = pywraplp.Solver.CreateSolver('SCIP')\n",
    "\n",
    "# добавление переменных задачи\n",
    "x1 = solver.IntVar(0, solver.infinity(), 'x1')\n",
    "x2 = solver.IntVar(0, solver.infinity(), 'x2')\n",
    "x3 = solver.IntVar(0, solver.infinity(), 'x3')\n",
    "x4 = solver.IntVar(0, solver.infinity(), 'x4')\n",
    "x5 = solver.IntVar(0, solver.infinity(), 'x5')\n",
    "x6 = solver.IntVar(0, solver.infinity(), 'x6')\n",
    "\n",
    "# проверим, что мы добавили верное количество переменных\n",
    "print(f'Kоличество переменных: {solver.NumVariables()}')\n",
    "\n",
    "# добавление ограничений\n",
    "solver.Add(2*x1 + 1*x2 - 1*x3  - 3*x4 + 4*x5 + 7*x6 <= 7)\n",
    "solver.Add(0*x1 + 1*x2 + 1*x3  + 1*x4 + 2*x5 + 4*x6 <= 16)\n",
    "solver.Add(6*x1 - 3*x2 - 3*x3  + 1*x4 + 1*x5 + 1*x6 <= 6)\n",
    "\n",
    "# проверим, что мы добавили верное количество переменных\n",
    "print(f'Количество ограничений: {solver.NumConstraints()}')\n",
    "\n",
    "# добавление целевой функции\n",
    "solver.Maximize(1*x1 + 2*x2 + 1*x3 - 1*x4 + 2*x5 + 3*x6)\n",
    "\n",
    "# решение задачи\n",
    "status = solver.Solve()\n",
    "if status == pywraplp.Solver.OPTIMAL:\n",
    "    print('Решение:')\n",
    "    print(f'Значение целевой функции = {solver.Objective().Value():.0f}')\n",
    "    print(f'x1 = {x1.solution_value():.0f}')\n",
    "    print(f'x2 = {x2.solution_value():.0f}')    \n",
    "    print(f'x3 = {x3.solution_value():.0f}')    \n",
    "    print(f'x4 = {x4.solution_value():.0f}')    \n",
    "    print(f'x5 = {x5.solution_value():.0f}')  \n",
    "    print(f'x6 = {x6.solution_value():.0f}')    "
   ]
  },
  {
   "cell_type": "markdown",
   "id": "e8b6bf55",
   "metadata": {
    "pycharm": {
     "name": "#%% md\n"
    }
   },
   "source": [
    "## Пример 2"
   ]
  },
  {
   "cell_type": "markdown",
   "id": "45f2ffa5",
   "metadata": {
    "pycharm": {
     "name": "#%% md\n"
    }
   },
   "source": [
    "Задача:\n",
    "С трех складов необходимо поставить в пять магазинов сахарный песок в соответствии с заявкой каждого магазина. Объемы запасов песка, имеющегося на складах, объемы заявок магазинов и тарифы на поставку одной тонны груза со складов в магазины даны в транспортных таблицах по вариантам. Найдите оптимальный план поставок.\n",
    "\n",
    "Объемы запасов песка, объемы заявок магазинов и тарифы на поставку:\n",
    "\n",
    "| Склад/ Магазин |M1|M2|M3|M4|M5|Объем запасов|\n",
    "|:--------------:|:-:|:-:|:-:|:-:|:-:|:------:|     \n",
    "|S1              |7  |9  |15 |4  |18 |200     |\n",
    "|S2              |13 |25 |8  |15 |5  |250     |\n",
    "|S3              |5  |11 |6  |20 |12 |250     |\n",
    "|Заявки          |80 |260|100|140|120|        |\n"
   ]
  },
  {
   "cell_type": "markdown",
   "id": "1fb0d343",
   "metadata": {
    "pycharm": {
     "name": "#%% md\n"
    }
   },
   "source": [
    "Построим математическую модель рассматриваемой задачи.\n",
    "Введем следующие переменные:  \n",
    "$ x_{ij} $ - количество сахара поставленное со  склада $ Si $ в магазин $ Mj $  \n",
    "$ p_{ij} $ - тариф на поставку одной тонны сахара со склада $ Si $ в магазин $ Mj $  \n",
    "$ Z_{i} $ - объем запасов на складе $ Si $  \n",
    "$ R_{j} $ - заявка магазина $ Mj $\n",
    "\n",
    "Тогда в качестве целевой функции рассматривается:\n",
    "$$ \\phi = \\sum _{i, j} x_{ij}*p_{ij} $$\n",
    "А в качестве ограничений выступают:\n",
    "$$ x_{ij} \\geq 0 $$  \n",
    "$$ \\sum_{j} x_{ij} \\leq Z_{i} $$  \n",
    "$$ \\sum_{i} x_{ij} = R_{j} $$"
   ]
  },
  {
   "cell_type": "code",
   "execution_count": 86,
   "id": "242feb69",
   "metadata": {
    "pycharm": {
     "name": "#%%\n"
    }
   },
   "outputs": [],
   "source": [
    "# тарифы на поставку\n",
    "p = [\n",
    "    [7, 9, 15, 4, 18],\n",
    "    [13, 25, 8, 15, 5],\n",
    "    [5, 11, 6, 20, 12],\n",
    "]\n",
    "\n",
    "# объем запасов на складах\n",
    "Z = [200, 250, 250]\n",
    "\n",
    "# заявки магазинов\n",
    "R = [80, 260, 100, 140, 120]\n",
    "\n",
    "# количество магазинов\n",
    "Nm = len(R)\n",
    "Ns = len(Z)"
   ]
  },
  {
   "cell_type": "code",
   "execution_count": 103,
   "id": "5683a4ef",
   "metadata": {
    "pycharm": {
     "name": "#%%\n"
    }
   },
   "outputs": [],
   "source": [
    "solver = pywraplp.Solver.CreateSolver('GLOP')"
   ]
  },
  {
   "cell_type": "code",
   "execution_count": 104,
   "id": "e9164796",
   "metadata": {
    "pycharm": {
     "name": "#%%\n"
    }
   },
   "outputs": [],
   "source": [
    "# добавление переменных задачи\n",
    "x = []\n",
    "for i in range(Ns):\n",
    "    x.append([])\n",
    "    for j in range(Nm):\n",
    "        x[i].append(solver.NumVar(0, solver.Infinity(), f'x_{i+1}_{j+1}'))"
   ]
  },
  {
   "cell_type": "code",
   "execution_count": 105,
   "id": "5f47c449",
   "metadata": {
    "pycharm": {
     "name": "#%%\n"
    }
   },
   "outputs": [
    {
     "name": "stdout",
     "output_type": "stream",
     "text": [
      "Количество переменных: 15\n"
     ]
    }
   ],
   "source": [
    "# проверка того, что добавилось необходимое количество переменных\n",
    "print(f'Количество переменных: {solver.NumVariables()}')"
   ]
  },
  {
   "cell_type": "code",
   "execution_count": 106,
   "id": "511377bd",
   "metadata": {
    "pycharm": {
     "name": "#%%\n"
    }
   },
   "outputs": [],
   "source": [
    "# добавление ограничений по объемам на складах\n",
    "for i in range(Ns):\n",
    "    constrain_expr = [x[i][j] for j in range(Nm)]\n",
    "    solver.Add(sum(constrain_expr) <= Z[i])"
   ]
  },
  {
   "cell_type": "code",
   "execution_count": 107,
   "id": "f996c063",
   "metadata": {
    "pycharm": {
     "name": "#%%\n"
    }
   },
   "outputs": [],
   "source": [
    "# добавление ограничений по заявкам магазинов\n",
    "for j in range(Nm):\n",
    "    constrain_expr = [x[i][j] for i in range(Ns)]\n",
    "    solver.Add(sum(constrain_expr) == R[j])"
   ]
  },
  {
   "cell_type": "code",
   "execution_count": 108,
   "id": "c23904b5",
   "metadata": {
    "pycharm": {
     "name": "#%%\n"
    }
   },
   "outputs": [
    {
     "name": "stdout",
     "output_type": "stream",
     "text": [
      "Количество ограничений: 8\n"
     ]
    }
   ],
   "source": [
    "# проверка того, что добавилось необходимое количество ограничений\n",
    "print(f'Количество ограничений: {solver.NumConstraints()}')"
   ]
  },
  {
   "cell_type": "code",
   "execution_count": 109,
   "id": "574f10b8",
   "metadata": {
    "pycharm": {
     "name": "#%%\n"
    }
   },
   "outputs": [],
   "source": [
    "# добавление целевой функции\n",
    "objective_expr = []\n",
    "for i in range(Ns):\n",
    "    for j in range(Nm):\n",
    "        objective_expr.append(x[i][j] * p[i][j])\n",
    "solver.Maximize(solver.Sum(objective_expr))"
   ]
  },
  {
   "cell_type": "code",
   "execution_count": 110,
   "id": "dddc442e",
   "metadata": {
    "pycharm": {
     "name": "#%%\n"
    }
   },
   "outputs": [],
   "source": [
    "status = solver.Solve()"
   ]
  },
  {
   "cell_type": "code",
   "execution_count": 116,
   "id": "7d1c2f49",
   "metadata": {
    "pycharm": {
     "name": "#%%\n"
    }
   },
   "outputs": [
    {
     "name": "stdout",
     "output_type": "stream",
     "text": [
      "Значение целевой функции = 13100.0\n",
      "План поставок в виде матрицы:[\n",
      "[0.0, 0.0, 100.0, 0.0, 100.0]\n",
      "[0.0, 250.0, 0.0, 0.0, 0.0]\n",
      "[80.0, 10.0, 0.0, 140.0, 20.0]\n",
      "]\n"
     ]
    }
   ],
   "source": [
    "if status == pywraplp.Solver.OPTIMAL:\n",
    "    print(f'Значение целевой функции = {solver.Objective().Value()}')\n",
    "    solution = [[x[i][j].solution_value() for j in range(Nm)] for i in range (Ns)]\n",
    "    print('План поставок в виде матрицы:[')\n",
    "    for i in range(Ns):\n",
    "        print(solution[i])\n",
    "    print(']')"
   ]
  },
  {
   "cell_type": "code",
   "execution_count": null,
   "id": "10ad78d9",
   "metadata": {
    "pycharm": {
     "name": "#%%\n"
    }
   },
   "outputs": [],
   "source": []
  }
 ],
 "metadata": {
  "kernelspec": {
   "display_name": "Python 3 (ipykernel)",
   "language": "python",
   "name": "python3"
  },
  "language_info": {
   "codemirror_mode": {
    "name": "ipython",
    "version": 3
   },
   "file_extension": ".py",
   "mimetype": "text/x-python",
   "name": "python",
   "nbconvert_exporter": "python",
   "pygments_lexer": "ipython3",
   "version": "3.9.7"
  }
 },
 "nbformat": 4,
 "nbformat_minor": 5
}